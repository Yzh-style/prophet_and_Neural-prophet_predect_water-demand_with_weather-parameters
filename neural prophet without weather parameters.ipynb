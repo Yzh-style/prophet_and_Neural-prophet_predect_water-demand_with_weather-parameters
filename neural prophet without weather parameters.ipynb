{
 "cells": [
  {
   "cell_type": "code",
   "execution_count": 1,
   "id": "a1861028",
   "metadata": {},
   "outputs": [],
   "source": [
    "import pandas as pd\n",
    "import numpy as np\n",
    "import matplotlib.pyplot as plt\n",
    "import seaborn as sns\n",
    "from neuralprophet import NeuralProphet\n",
    "from sklearn.metrics import mean_absolute_error\n",
    "from sklearn.metrics import mean_squared_error"
   ]
  },
  {
   "cell_type": "code",
   "execution_count": 2,
   "id": "d5993c5b",
   "metadata": {},
   "outputs": [],
   "source": [
    "# x is how much hours which are used to train model, and from x to x+7*24 hours will be forecasted\n",
    "x = 29880    # x = 29976 (style changing period) or 30000-5*24 = 29880 (peaks water demand period)"
   ]
  },
  {
   "cell_type": "code",
   "execution_count": 3,
   "id": "113f699a",
   "metadata": {},
   "outputs": [
    {
     "data": {
      "text/html": [
       "<div>\n",
       "<style scoped>\n",
       "    .dataframe tbody tr th:only-of-type {\n",
       "        vertical-align: middle;\n",
       "    }\n",
       "\n",
       "    .dataframe tbody tr th {\n",
       "        vertical-align: top;\n",
       "    }\n",
       "\n",
       "    .dataframe thead th {\n",
       "        text-align: right;\n",
       "    }\n",
       "</style>\n",
       "<table border=\"1\" class=\"dataframe\">\n",
       "  <thead>\n",
       "    <tr style=\"text-align: right;\">\n",
       "      <th></th>\n",
       "      <th>ds</th>\n",
       "      <th>y</th>\n",
       "    </tr>\n",
       "  </thead>\n",
       "  <tbody>\n",
       "    <tr>\n",
       "      <th>0</th>\n",
       "      <td>2018-01-15 08:00:00</td>\n",
       "      <td>59.759240</td>\n",
       "    </tr>\n",
       "    <tr>\n",
       "      <th>1</th>\n",
       "      <td>2018-01-15 09:00:00</td>\n",
       "      <td>59.226733</td>\n",
       "    </tr>\n",
       "    <tr>\n",
       "      <th>2</th>\n",
       "      <td>2018-01-15 10:00:00</td>\n",
       "      <td>84.631849</td>\n",
       "    </tr>\n",
       "    <tr>\n",
       "      <th>3</th>\n",
       "      <td>2018-01-15 11:00:00</td>\n",
       "      <td>107.245748</td>\n",
       "    </tr>\n",
       "    <tr>\n",
       "      <th>4</th>\n",
       "      <td>2018-01-15 12:00:00</td>\n",
       "      <td>96.690556</td>\n",
       "    </tr>\n",
       "    <tr>\n",
       "      <th>...</th>\n",
       "      <td>...</td>\n",
       "      <td>...</td>\n",
       "    </tr>\n",
       "    <tr>\n",
       "      <th>30384</th>\n",
       "      <td>2021-07-04 08:00:00</td>\n",
       "      <td>86.438042</td>\n",
       "    </tr>\n",
       "    <tr>\n",
       "      <th>30385</th>\n",
       "      <td>2021-07-04 09:00:00</td>\n",
       "      <td>92.873500</td>\n",
       "    </tr>\n",
       "    <tr>\n",
       "      <th>30386</th>\n",
       "      <td>2021-07-04 10:00:00</td>\n",
       "      <td>96.202250</td>\n",
       "    </tr>\n",
       "    <tr>\n",
       "      <th>30387</th>\n",
       "      <td>2021-07-04 11:00:00</td>\n",
       "      <td>105.203000</td>\n",
       "    </tr>\n",
       "    <tr>\n",
       "      <th>30388</th>\n",
       "      <td>2021-07-04 12:00:00</td>\n",
       "      <td>115.355138</td>\n",
       "    </tr>\n",
       "  </tbody>\n",
       "</table>\n",
       "<p>30389 rows × 2 columns</p>\n",
       "</div>"
      ],
      "text/plain": [
       "                       ds           y\n",
       "0     2018-01-15 08:00:00   59.759240\n",
       "1     2018-01-15 09:00:00   59.226733\n",
       "2     2018-01-15 10:00:00   84.631849\n",
       "3     2018-01-15 11:00:00  107.245748\n",
       "4     2018-01-15 12:00:00   96.690556\n",
       "...                   ...         ...\n",
       "30384 2021-07-04 08:00:00   86.438042\n",
       "30385 2021-07-04 09:00:00   92.873500\n",
       "30386 2021-07-04 10:00:00   96.202250\n",
       "30387 2021-07-04 11:00:00  105.203000\n",
       "30388 2021-07-04 12:00:00  115.355138\n",
       "\n",
       "[30389 rows x 2 columns]"
      ]
     },
     "execution_count": 3,
     "metadata": {},
     "output_type": "execute_result"
    }
   ],
   "source": [
    "df = pd.read_csv('E:\\sciebo\\Data\\pre_processed_Raw_data_demand_KK_freq_60.csv')\n",
    "df.iloc[:,0] = pd.to_datetime(df.iloc[:,0], infer_datetime_format=True) \n",
    "df.iloc[:,0] = df.iloc[:,0].dt.tz_localize(None) \n",
    "df.rename(columns = {'datetime_utc':'ds', 'adjusted':'y'}, inplace = True)\n",
    "df"
   ]
  },
  {
   "cell_type": "code",
   "execution_count": 4,
   "id": "ee67a285",
   "metadata": {},
   "outputs": [
    {
     "data": {
      "text/html": [
       "<div>\n",
       "<style scoped>\n",
       "    .dataframe tbody tr th:only-of-type {\n",
       "        vertical-align: middle;\n",
       "    }\n",
       "\n",
       "    .dataframe tbody tr th {\n",
       "        vertical-align: top;\n",
       "    }\n",
       "\n",
       "    .dataframe thead th {\n",
       "        text-align: right;\n",
       "    }\n",
       "</style>\n",
       "<table border=\"1\" class=\"dataframe\">\n",
       "  <thead>\n",
       "    <tr style=\"text-align: right;\">\n",
       "      <th></th>\n",
       "      <th>ds</th>\n",
       "      <th>y</th>\n",
       "    </tr>\n",
       "  </thead>\n",
       "  <tbody>\n",
       "    <tr>\n",
       "      <th>0</th>\n",
       "      <td>2018-01-15 08:00:00</td>\n",
       "      <td>59.759240</td>\n",
       "    </tr>\n",
       "    <tr>\n",
       "      <th>1</th>\n",
       "      <td>2018-01-15 09:00:00</td>\n",
       "      <td>59.226733</td>\n",
       "    </tr>\n",
       "    <tr>\n",
       "      <th>2</th>\n",
       "      <td>2018-01-15 10:00:00</td>\n",
       "      <td>84.631849</td>\n",
       "    </tr>\n",
       "    <tr>\n",
       "      <th>3</th>\n",
       "      <td>2018-01-15 11:00:00</td>\n",
       "      <td>107.245748</td>\n",
       "    </tr>\n",
       "    <tr>\n",
       "      <th>4</th>\n",
       "      <td>2018-01-15 12:00:00</td>\n",
       "      <td>96.690556</td>\n",
       "    </tr>\n",
       "    <tr>\n",
       "      <th>...</th>\n",
       "      <td>...</td>\n",
       "      <td>...</td>\n",
       "    </tr>\n",
       "    <tr>\n",
       "      <th>29876</th>\n",
       "      <td>2021-06-13 04:00:00</td>\n",
       "      <td>25.803335</td>\n",
       "    </tr>\n",
       "    <tr>\n",
       "      <th>29877</th>\n",
       "      <td>2021-06-13 05:00:00</td>\n",
       "      <td>32.904266</td>\n",
       "    </tr>\n",
       "    <tr>\n",
       "      <th>29878</th>\n",
       "      <td>2021-06-13 06:00:00</td>\n",
       "      <td>50.624876</td>\n",
       "    </tr>\n",
       "    <tr>\n",
       "      <th>29879</th>\n",
       "      <td>2021-06-13 07:00:00</td>\n",
       "      <td>80.502306</td>\n",
       "    </tr>\n",
       "    <tr>\n",
       "      <th>29880</th>\n",
       "      <td>2021-06-13 08:00:00</td>\n",
       "      <td>111.462113</td>\n",
       "    </tr>\n",
       "  </tbody>\n",
       "</table>\n",
       "<p>29881 rows × 2 columns</p>\n",
       "</div>"
      ],
      "text/plain": [
       "                       ds           y\n",
       "0     2018-01-15 08:00:00   59.759240\n",
       "1     2018-01-15 09:00:00   59.226733\n",
       "2     2018-01-15 10:00:00   84.631849\n",
       "3     2018-01-15 11:00:00  107.245748\n",
       "4     2018-01-15 12:00:00   96.690556\n",
       "...                   ...         ...\n",
       "29876 2021-06-13 04:00:00   25.803335\n",
       "29877 2021-06-13 05:00:00   32.904266\n",
       "29878 2021-06-13 06:00:00   50.624876\n",
       "29879 2021-06-13 07:00:00   80.502306\n",
       "29880 2021-06-13 08:00:00  111.462113\n",
       "\n",
       "[29881 rows x 2 columns]"
      ]
     },
     "execution_count": 4,
     "metadata": {},
     "output_type": "execute_result"
    }
   ],
   "source": [
    "df_t = df.loc[0:x]\n",
    "df_t"
   ]
  },
  {
   "cell_type": "code",
   "execution_count": 5,
   "id": "a9ac99cb",
   "metadata": {},
   "outputs": [
    {
     "data": {
      "text/html": [
       "<div>\n",
       "<style scoped>\n",
       "    .dataframe tbody tr th:only-of-type {\n",
       "        vertical-align: middle;\n",
       "    }\n",
       "\n",
       "    .dataframe tbody tr th {\n",
       "        vertical-align: top;\n",
       "    }\n",
       "\n",
       "    .dataframe thead th {\n",
       "        text-align: right;\n",
       "    }\n",
       "</style>\n",
       "<table border=\"1\" class=\"dataframe\">\n",
       "  <thead>\n",
       "    <tr style=\"text-align: right;\">\n",
       "      <th></th>\n",
       "      <th>ds</th>\n",
       "      <th>y</th>\n",
       "    </tr>\n",
       "  </thead>\n",
       "  <tbody>\n",
       "    <tr>\n",
       "      <th>0</th>\n",
       "      <td>2018-01-15 08:00:00</td>\n",
       "      <td>59.759240</td>\n",
       "    </tr>\n",
       "    <tr>\n",
       "      <th>1</th>\n",
       "      <td>2018-01-15 09:00:00</td>\n",
       "      <td>59.226733</td>\n",
       "    </tr>\n",
       "    <tr>\n",
       "      <th>2</th>\n",
       "      <td>2018-01-15 10:00:00</td>\n",
       "      <td>84.631849</td>\n",
       "    </tr>\n",
       "    <tr>\n",
       "      <th>3</th>\n",
       "      <td>2018-01-15 11:00:00</td>\n",
       "      <td>107.245748</td>\n",
       "    </tr>\n",
       "    <tr>\n",
       "      <th>4</th>\n",
       "      <td>2018-01-15 12:00:00</td>\n",
       "      <td>96.690556</td>\n",
       "    </tr>\n",
       "    <tr>\n",
       "      <th>...</th>\n",
       "      <td>...</td>\n",
       "      <td>...</td>\n",
       "    </tr>\n",
       "    <tr>\n",
       "      <th>30144</th>\n",
       "      <td>2021-06-24 08:00:00</td>\n",
       "      <td>98.855625</td>\n",
       "    </tr>\n",
       "    <tr>\n",
       "      <th>30145</th>\n",
       "      <td>2021-06-24 09:00:00</td>\n",
       "      <td>96.984295</td>\n",
       "    </tr>\n",
       "    <tr>\n",
       "      <th>30146</th>\n",
       "      <td>2021-06-24 10:00:00</td>\n",
       "      <td>104.043444</td>\n",
       "    </tr>\n",
       "    <tr>\n",
       "      <th>30147</th>\n",
       "      <td>2021-06-24 11:00:00</td>\n",
       "      <td>95.220694</td>\n",
       "    </tr>\n",
       "    <tr>\n",
       "      <th>30148</th>\n",
       "      <td>2021-06-24 12:00:00</td>\n",
       "      <td>97.649510</td>\n",
       "    </tr>\n",
       "  </tbody>\n",
       "</table>\n",
       "<p>30149 rows × 2 columns</p>\n",
       "</div>"
      ],
      "text/plain": [
       "                       ds           y\n",
       "0     2018-01-15 08:00:00   59.759240\n",
       "1     2018-01-15 09:00:00   59.226733\n",
       "2     2018-01-15 10:00:00   84.631849\n",
       "3     2018-01-15 11:00:00  107.245748\n",
       "4     2018-01-15 12:00:00   96.690556\n",
       "...                   ...         ...\n",
       "30144 2021-06-24 08:00:00   98.855625\n",
       "30145 2021-06-24 09:00:00   96.984295\n",
       "30146 2021-06-24 10:00:00  104.043444\n",
       "30147 2021-06-24 11:00:00   95.220694\n",
       "30148 2021-06-24 12:00:00   97.649510\n",
       "\n",
       "[30149 rows x 2 columns]"
      ]
     },
     "execution_count": 5,
     "metadata": {},
     "output_type": "execute_result"
    }
   ],
   "source": [
    "df_f=df.loc[0:x+268]\n",
    "df_f"
   ]
  },
  {
   "cell_type": "code",
   "execution_count": null,
   "id": "8a669749",
   "metadata": {},
   "outputs": [],
   "source": []
  },
  {
   "cell_type": "code",
   "execution_count": 6,
   "id": "c4cbee80",
   "metadata": {},
   "outputs": [],
   "source": [
    "df_t = df.loc[0:x]\n"
   ]
  },
  {
   "cell_type": "code",
   "execution_count": null,
   "id": "1c8f1093",
   "metadata": {},
   "outputs": [
    {
     "data": {
      "image/png": "[encoded data removed]",
      "text/plain": [
       "<Figure size 864x864 with 4 Axes>"
      ]
     },
     "metadata": {
      "needs_background": "light"
     },
     "output_type": "display_data"
    },
    {
     "name": "stdout",
     "output_type": "stream",
     "text": [
      "MAE\n",
      "\tMAE              \t (min:   16.855, max: 1482.443, cur: 1482.443)\n",
      "RMSE\n",
      "\tRMSE             \t (min:   22.536, max: 1883.820, cur: 1883.820)\n",
      "RegLoss\n",
      "\tRegLoss          \t (min:    0.000, max:    0.000, cur:    0.000)\n",
      "log-SmoothL1Loss\n",
      "\tlog-SmoothL1Loss \t (min:   -4.044, max:    2.465, cur:    2.465)\n"
     ]
    }
   ],
   "source": [
    "m = NeuralProphet( \n",
    "                 n_forecasts=24*7,\n",
    "                 n_lags=24*14, \n",
    "                 d_hidden = 2,\n",
    "                 ar_reg=0.01,\n",
    "                 #ar_sparsity=0.1,\n",
    "                 #batch_size = 365*24,\n",
    "                 learning_rate=1,\n",
    "#                changepoint_prior_scale = 0.003,\n",
    "#                seasonality_prior_scale = 0.01,\n",
    "                 changepoints_range=0.95,\n",
    "                 n_changepoints=3,\n",
    "                 daily_seasonality=7 ,yearly_seasonality = 6,weekly_seasonality = 2\n",
    "#                mcmc_samples=100\n",
    "                 )\n",
    "m.add_country_holidays(country_name=\"Germany\")\n",
    "future = m.make_future_dataframe(\n",
    "                                    df_t, periods=170,n_historic_predictions=True\n",
    "                                 )\n",
    "future = future.loc[0:x+168]\n",
    "metrics = m.fit(df_t, progress=\"plot-all\")"
   ]
  },
  {
   "cell_type": "code",
   "execution_count": null,
   "id": "3d99b2b9",
   "metadata": {},
   "outputs": [],
   "source": [
    "forecast = m.predict(future)\n",
    "fig = m.plot_component(forecast)\n",
    "m.plot(forecast)  "
   ]
  },
  {
   "cell_type": "code",
   "execution_count": null,
   "id": "73cdb75f",
   "metadata": {},
   "outputs": [],
   "source": [
    "import plotly.graph_objs as go\n",
    "from plotly.offline import init_notebook_mode, iplot\n",
    "init_notebook_mode(connected=True)\n",
    "df_3 = df.loc[x-24*3:x+168]\n",
    "forecast_3 = forecast.loc[x:x+368]\n",
    "trace1 = go.Scatter(\n",
    "                    x = df_3.ds,                          \n",
    "                    y = df_3.y,                    \n",
    "                    mode = \"lines+markers\",                \n",
    "                    name = \"real waterdemand\",             \n",
    "                    marker = dict(color = 'rgba(16, 112, 2, 0.8)'),   \n",
    "                    )\n",
    "trace2 = go.Scatter(\n",
    "                    x = forecast_3.ds,\n",
    "                    y = forecast_3.yhat7,\n",
    "                    mode = \"lines+markers\",                \n",
    "                    name = \"forecast waterdemand 7hours\",\n",
    "                    marker = dict(color = 'rgba(80, 26, 80, 0.8)'),\n",
    "                    )\n",
    "\n",
    "data = [trace1, trace2]\n",
    "layout = dict(\n",
    "              title = ' forecast and real water demand',            \n",
    "              xaxis= dict(title= 'time',ticklen= 50,zeroline= True)\n",
    "              ) \n",
    "fig = dict(data = data, layout = layout)\n",
    "iplot(fig)"
   ]
  },
  {
   "cell_type": "code",
   "execution_count": null,
   "id": "d4e157a0",
   "metadata": {},
   "outputs": [],
   "source": [
    "forecast1 = forecast[x:x+168]\n",
    "forecast1=forecast1.filter(regex= 'yhat',axis = 1)\n",
    "forecast1 "
   ]
  },
  {
   "cell_type": "code",
   "execution_count": null,
   "id": "3bbccbe8",
   "metadata": {},
   "outputs": [],
   "source": [
    "for index, row in forecast1.iteritems():\n",
    "    print(index) # columns names\n",
    "def func(x):\n",
    "    if x.first_valid_index() is None:\n",
    "        return None\n",
    "    else:\n",
    "        return x[x.first_valid_index()]\n"
   ]
  },
  {
   "cell_type": "code",
   "execution_count": null,
   "id": "6a61d769",
   "metadata": {},
   "outputs": [],
   "source": [
    "forecast_text = forecast1.apply(func, axis=1)\n",
    "forecast_text = pd.DataFrame ( forecast_text, columns = ['y_hat_first']) \n",
    "forecast_text"
   ]
  },
  {
   "cell_type": "code",
   "execution_count": null,
   "id": "4fdfc22e",
   "metadata": {},
   "outputs": [],
   "source": [
    "df_3 = df.loc[x  :x +168]\n",
    "data_forecast3 = future.loc[x - 5*24 :x +168]\n",
    "forecast_3 = forecast.loc[x:x+168]\n",
    "trace1 = go.Scatter(\n",
    "                    x = df_3.ds,                          \n",
    "                    y = df_3.y,                    \n",
    "                    mode = \"lines+markers\",                \n",
    "                    name = \"real waterdemand\",             \n",
    "                    marker = dict(color = 'rgba(16, 112, 2, 0.8)'),   \n",
    "                    )\n",
    "trace2 = go.Scatter(\n",
    "                    x = forecast_3.ds,\n",
    "                    y = forecast_text.y_hat_first,\n",
    "                    mode = \"lines+markers\",               \n",
    "                    name = \"forecast waterdemand first step\",\n",
    "                    marker = dict(color = 'rgba(80, 26, 80, 0.8)'),    \n",
    "                    )\n",
    "\n",
    "\n",
    "\n",
    "data = [trace1, trace2]\n",
    "layout = dict(\n",
    "              title = 'Neural prophet forecast and real water demand without weather parameters',            \n",
    "              xaxis= dict(title= 'time',ticklen= 50,zeroline= True)\n",
    "              ) \n",
    "fig = dict(data = data, layout = layout)\n",
    "iplot(fig)"
   ]
  },
  {
   "cell_type": "code",
   "execution_count": null,
   "id": "1c81dd8d",
   "metadata": {},
   "outputs": [],
   "source": [
    "y_true = df_f.loc[x:x+72,'y']\n",
    "y_yhat = forecast_text.loc[x:x+72,'y_hat_first']"
   ]
  },
  {
   "cell_type": "code",
   "execution_count": null,
   "id": "6e867ca4",
   "metadata": {},
   "outputs": [],
   "source": [
    "mean_absolute_error(y_true, y_yhat)      #     3    days"
   ]
  },
  {
   "cell_type": "code",
   "execution_count": null,
   "id": "625e6755",
   "metadata": {},
   "outputs": [],
   "source": [
    "mean_squared_error(y_true, y_yhat) "
   ]
  },
  {
   "cell_type": "code",
   "execution_count": null,
   "id": "f9d2f11d",
   "metadata": {},
   "outputs": [],
   "source": [
    "y_true = df_f.loc[x:x+7*24-1,'y']\n",
    "y_yhat = forecast_text.loc[x:x+7*24]"
   ]
  },
  {
   "cell_type": "code",
   "execution_count": null,
   "id": "8a5c5b3e",
   "metadata": {},
   "outputs": [],
   "source": [
    "mean_absolute_error(y_true, y_yhat)               #  7  days"
   ]
  },
  {
   "cell_type": "code",
   "execution_count": null,
   "id": "27e79594",
   "metadata": {},
   "outputs": [],
   "source": [
    "mean_squared_error(y_true, y_yhat)            "
   ]
  },
  {
   "cell_type": "code",
   "execution_count": null,
   "id": "98e209c6",
   "metadata": {},
   "outputs": [],
   "source": []
  }
 ],
 "metadata": {
  "kernelspec": {
   "display_name": "Neuralprophet",
   "language": "python",
   "name": "neuralprophet"
  },
  "language_info": {
   "codemirror_mode": {
    "name": "ipython",
    "version": 3
   },
   "file_extension": ".py",
   "mimetype": "text/x-python",
   "name": "python",
   "nbconvert_exporter": "python",
   "pygments_lexer": "ipython3",
   "version": "3.8.13"
  }
 },
 "nbformat": 4,
 "nbformat_minor": 5
}
